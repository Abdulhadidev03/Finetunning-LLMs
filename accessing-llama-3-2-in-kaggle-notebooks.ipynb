{
 "cells": [
  {
   "cell_type": "code",
   "execution_count": 1,
   "id": "461ab17c",
   "metadata": {
    "_cell_guid": "b1076dfc-b9ad-4769-8c92-a6c4dae69d19",
    "_uuid": "8f2839f25d086af736a60e9eeb907d3b93b6e0e5",
    "execution": {
     "iopub.execute_input": "2025-01-17T15:32:17.726380Z",
     "iopub.status.busy": "2025-01-17T15:32:17.726064Z",
     "iopub.status.idle": "2025-01-17T15:32:18.494331Z",
     "shell.execute_reply": "2025-01-17T15:32:18.493597Z"
    },
    "papermill": {
     "duration": 0.773142,
     "end_time": "2025-01-17T15:32:18.495706",
     "exception": false,
     "start_time": "2025-01-17T15:32:17.722564",
     "status": "completed"
    },
    "tags": []
   },
   "outputs": [
    {
     "name": "stdout",
     "output_type": "stream",
     "text": [
      "/kaggle/input/llama-3.2/transformers/3b-instruct/1/model.safetensors.index.json\n",
      "/kaggle/input/llama-3.2/transformers/3b-instruct/1/config.json\n",
      "/kaggle/input/llama-3.2/transformers/3b-instruct/1/model-00001-of-00002.safetensors\n",
      "/kaggle/input/llama-3.2/transformers/3b-instruct/1/model-00002-of-00002.safetensors\n",
      "/kaggle/input/llama-3.2/transformers/3b-instruct/1/README.md\n",
      "/kaggle/input/llama-3.2/transformers/3b-instruct/1/USE_POLICY.md\n",
      "/kaggle/input/llama-3.2/transformers/3b-instruct/1/tokenizer.json\n",
      "/kaggle/input/llama-3.2/transformers/3b-instruct/1/tokenizer_config.json\n",
      "/kaggle/input/llama-3.2/transformers/3b-instruct/1/LICENSE.txt\n",
      "/kaggle/input/llama-3.2/transformers/3b-instruct/1/special_tokens_map.json\n",
      "/kaggle/input/llama-3.2/transformers/3b-instruct/1/.gitattributes\n",
      "/kaggle/input/llama-3.2/transformers/3b-instruct/1/generation_config.json\n"
     ]
    }
   ],
   "source": [
    "# This Python 3 environment comes with many helpful analytics libraries installed\n",
    "# It is defined by the kaggle/python Docker image: https://github.com/kaggle/docker-python\n",
    "# For example, here's several helpful packages to load\n",
    "\n",
    "import numpy as np # linear algebra\n",
    "import pandas as pd # data processing, CSV file I/O (e.g. pd.read_csv)\n",
    "\n",
    "# Input data files are available in the read-only \"../input/\" directory\n",
    "# For example, running this (by clicking run or pressing Shift+Enter) will list all files under the input directory\n",
    "\n",
    "import os\n",
    "for dirname, _, filenames in os.walk('/kaggle/input'):\n",
    "    for filename in filenames:\n",
    "        print(os.path.join(dirname, filename))\n",
    "\n",
    "# You can write up to 20GB to the current directory (/kaggle/working/) that gets preserved as output when you create a version using \"Save & Run All\" \n",
    "# You can also write temporary files to /kaggle/temp/, but they won't be saved outside of the current session"
   ]
  },
  {
   "cell_type": "code",
   "execution_count": 2,
   "id": "3d43e744",
   "metadata": {
    "execution": {
     "iopub.execute_input": "2025-01-17T15:32:18.501074Z",
     "iopub.status.busy": "2025-01-17T15:32:18.500725Z",
     "iopub.status.idle": "2025-01-17T15:32:31.402447Z",
     "shell.execute_reply": "2025-01-17T15:32:31.401387Z"
    },
    "papermill": {
     "duration": 12.906034,
     "end_time": "2025-01-17T15:32:31.404144",
     "exception": false,
     "start_time": "2025-01-17T15:32:18.498110",
     "status": "completed"
    },
    "tags": []
   },
   "outputs": [],
   "source": [
    "%%capture\n",
    "%pip install -U transformers accelerate"
   ]
  },
  {
   "cell_type": "code",
   "execution_count": 3,
   "id": "209dbf2c",
   "metadata": {
    "execution": {
     "iopub.execute_input": "2025-01-17T15:32:31.409668Z",
     "iopub.status.busy": "2025-01-17T15:32:31.409410Z",
     "iopub.status.idle": "2025-01-17T15:33:25.803563Z",
     "shell.execute_reply": "2025-01-17T15:33:25.802173Z"
    },
    "papermill": {
     "duration": 54.398781,
     "end_time": "2025-01-17T15:33:25.805385",
     "exception": false,
     "start_time": "2025-01-17T15:32:31.406604",
     "status": "completed"
    },
    "tags": []
   },
   "outputs": [
    {
     "data": {
      "application/vnd.jupyter.widget-view+json": {
       "model_id": "72835257ef10472faf2fa6bb9143f5a5",
       "version_major": 2,
       "version_minor": 0
      },
      "text/plain": [
       "Loading checkpoint shards:   0%|          | 0/2 [00:00<?, ?it/s]"
      ]
     },
     "metadata": {},
     "output_type": "display_data"
    }
   ],
   "source": [
    "from transformers import AutoTokenizer, AutoModelForCausalLM, pipeline, TextStreamer\n",
    "import torch\n",
    "\n",
    "\n",
    "base_model = \"/kaggle/input/llama-3.2/transformers/3b-instruct/1\"\n",
    "\n",
    "tokenizer = AutoTokenizer.from_pretrained(base_model)\n",
    "\n",
    "model = AutoModelForCausalLM.from_pretrained(\n",
    "    base_model,\n",
    "    return_dict=True,\n",
    "    low_cpu_mem_usage=True,\n",
    "    torch_dtype=torch.float16,\n",
    "    device_map=\"auto\",\n",
    "    trust_remote_code=True,\n",
    ")"
   ]
  },
  {
   "cell_type": "code",
   "execution_count": 4,
   "id": "bd1f0f91",
   "metadata": {
    "execution": {
     "iopub.execute_input": "2025-01-17T15:33:25.811655Z",
     "iopub.status.busy": "2025-01-17T15:33:25.810971Z",
     "iopub.status.idle": "2025-01-17T15:33:25.815703Z",
     "shell.execute_reply": "2025-01-17T15:33:25.814785Z"
    },
    "papermill": {
     "duration": 0.009267,
     "end_time": "2025-01-17T15:33:25.817233",
     "exception": false,
     "start_time": "2025-01-17T15:33:25.807966",
     "status": "completed"
    },
    "tags": []
   },
   "outputs": [],
   "source": [
    "if tokenizer.pad_token_id is None:\n",
    "    tokenizer.pad_token_id = tokenizer.eos_token_id\n",
    "if model.config.pad_token_id is None:\n",
    "    model.config.pad_token_id = model.config.eos_token_id"
   ]
  },
  {
   "cell_type": "code",
   "execution_count": 5,
   "id": "152ea38f",
   "metadata": {
    "execution": {
     "iopub.execute_input": "2025-01-17T15:33:25.822926Z",
     "iopub.status.busy": "2025-01-17T15:33:25.822678Z",
     "iopub.status.idle": "2025-01-17T15:33:25.828232Z",
     "shell.execute_reply": "2025-01-17T15:33:25.827464Z"
    },
    "papermill": {
     "duration": 0.009762,
     "end_time": "2025-01-17T15:33:25.829507",
     "exception": false,
     "start_time": "2025-01-17T15:33:25.819745",
     "status": "completed"
    },
    "tags": []
   },
   "outputs": [
    {
     "name": "stderr",
     "output_type": "stream",
     "text": [
      "Device set to use cuda:0\n"
     ]
    }
   ],
   "source": [
    "pipe = pipeline(\n",
    "    \"text-generation\",\n",
    "    model=model,\n",
    "    tokenizer=tokenizer,\n",
    "    torch_dtype=torch.float16,\n",
    "    device_map=\"auto\",\n",
    ")"
   ]
  },
  {
   "cell_type": "code",
   "execution_count": 6,
   "id": "a2b30d4d",
   "metadata": {
    "execution": {
     "iopub.execute_input": "2025-01-17T15:33:25.834963Z",
     "iopub.status.busy": "2025-01-17T15:33:25.834717Z",
     "iopub.status.idle": "2025-01-17T15:33:32.650146Z",
     "shell.execute_reply": "2025-01-17T15:33:32.649047Z"
    },
    "papermill": {
     "duration": 6.8198,
     "end_time": "2025-01-17T15:33:32.651722",
     "exception": false,
     "start_time": "2025-01-17T15:33:25.831922",
     "status": "completed"
    },
    "tags": []
   },
   "outputs": [
    {
     "name": "stdout",
     "output_type": "stream",
     "text": [
      "<|begin_of_text|><|start_header_id|>user<|end_header_id|>\n",
      "\n",
      "Who is Neil Armstrong?<|eot_id|><|start_header_id|>assistant<|end_header_id|>\n",
      "\n",
      "Neil Armstrong (1930-2012) was an American astronaut, engineer, and naval aviator who became the first person to walk on the Moon on July 20, 1969, during the Apollo 11 mission. He is widely regarded as one of the most iconic figures in the history of space exploration.\n",
      "\n",
      "Early Life and Education:\n",
      "\n",
      "Armstrong was born on August 5, 1930, in Wapakoneta, Ohio, to Stephen and Viola Armstrong. He grew up in a family of modest means and developed an interest in flight at an early age. Armstrong earned\n"
     ]
    }
   ],
   "source": [
    "messages = [{\"role\": \"user\", \"content\": \"Who is Neil Armstrong?\"}]\n",
    "\n",
    "prompt = tokenizer.apply_chat_template(\n",
    "    messages, tokenize=False, add_generation_prompt=True\n",
    ")\n",
    "\n",
    "outputs = pipe(prompt, max_new_tokens=120, do_sample=True)\n",
    "\n",
    "print(outputs[0][\"generated_text\"])"
   ]
  },
  {
   "cell_type": "code",
   "execution_count": 7,
   "id": "44445536",
   "metadata": {
    "execution": {
     "iopub.execute_input": "2025-01-17T15:33:32.657881Z",
     "iopub.status.busy": "2025-01-17T15:33:32.657602Z",
     "iopub.status.idle": "2025-01-17T15:33:57.517557Z",
     "shell.execute_reply": "2025-01-17T15:33:57.516576Z"
    },
    "papermill": {
     "duration": 24.864854,
     "end_time": "2025-01-17T15:33:57.519159",
     "exception": false,
     "start_time": "2025-01-17T15:33:32.654305",
     "status": "completed"
    },
    "tags": []
   },
   "outputs": [
    {
     "data": {
      "text/markdown": [
       "\n",
       "\n",
       "Here is a high-level CrewAI code that implements the two agents you described: Retrieval Agent and Authentication Agent.\n",
       "\n",
       "**Please note that this is a basic implementation and may require modifications to suit your specific requirements.**\n",
       "\n",
       "**Agent 1: Retrieval Agent**\n",
       "```python\n",
       "# Import required libraries\n",
       "import crewai\n",
       "from crewai import models\n",
       "from crewai import utils\n",
       "\n",
       "# Define the Retrieval Agent class\n",
       "class RetrievalAgent:\n",
       "    def __init__(self, model_name=\"distilbert-base-uncased\"):\n",
       "        self.model = crewai.models.get_model(model_name)\n",
       "\n",
       "    def process_prompt(self, prompt):\n",
       "        # Preprocess the prompt\n",
       "        input_ids = self.model.encode(prompt)\n",
       "\n",
       "        # Retrieve the vector representation\n",
       "        vector = self.model.get_vector(input_ids)\n",
       "\n",
       "        # Store the vector in the vector database\n",
       "        utils.store_vector(vector, prompt)\n",
       "\n",
       "        return vector\n",
       "\n",
       "# Create a Retrieval Agent instance\n",
       "retrieval_agent = RetrievalAgent()\n",
       "\n",
       "# Define the Retrieval Agent's `run` method\n",
       "def run_retrieval_agent(prompt):\n",
       "    vector = retrieval_agent.process_prompt(prompt)\n",
       "    return vector\n",
       "```\n",
       "**Agent 2: Authentication Agent**\n",
       "```python\n",
       "# Import required libraries\n",
       "import crewai\n",
       "from crewai import models\n",
       "from crewai import utils\n",
       "\n",
       "# Define the Authentication Agent class\n",
       "class AuthenticationAgent:\n",
       "    def __init__(self, model_name=\"distilbert-base-uncased\"):\n",
       "        self.model = crewai.models.get_model(model_name)\n",
       "\n",
       "    def process_answer(self, answer, prompt):\n",
       "        # Preprocess the answer and prompt\n",
       "        input_ids = self.model.encode(answer)\n",
       "        prompt_ids = self.model.encode(prompt)\n",
       "\n",
       "        # Retrieve the vector representation of the answer\n",
       "        answer_vector = self.model.get_vector(input_ids)\n",
       "\n",
       "        # Compare the answer vector with the vector representation of the prompt\n",
       "        similarity = self.model.compare_vectors(answer_vector, prompt_ids)\n",
       "\n",
       "        # Return a boolean indicating whether the answer is correct\n",
       "        return similarity > 0.5\n",
       "\n",
       "# Create an Authentication Agent instance\n",
       "authentication_agent = AuthenticationAgent()\n",
       "\n",
       "# Define the Authentication Agent's `run` method\n",
       "def run_authentication_agent(answer, prompt):\n",
       "    return authentication_agent.process_answer(answer, prompt)\n",
       "```\n",
       "**Main Code**\n",
       "```python\n",
       "# Import required libraries\n",
       "import crewai\n",
       "from crewai import models\n",
       "from crewai import utils\n",
       "\n",
       "# Define the main function\n",
       "def main():\n",
       "    # Create a Retrieval Agent instance\n",
       "    retrieval_agent = RetrievalAgent()\n",
       "\n",
       "   "
      ],
      "text/plain": [
       "<IPython.core.display.Markdown object>"
      ]
     },
     "metadata": {},
     "output_type": "display_data"
    }
   ],
   "source": [
    "from IPython.display import Markdown, display\n",
    "\n",
    "messages = [\n",
    "    {\n",
    "        \"role\": \"system\",\n",
    "        \"content\": \"You are a skilled Python and Generative AI developer specializing in making AI Agents and writing agent specific prompts.\",\n",
    "    },\n",
    "    {\n",
    "        \"role\": \"user\",\n",
    "        \"content\": \"I want to use CrewAI to make AI agents , my idea is that i want two agents one can is retreival agent which will take user prompt , understand it and then store in vector database then the model will generate the answer and give to other agent which is authentication agent which will se whether the answer is according to question asked if yes then send to user make a crewai code for this.\",\n",
    "    },\n",
    "]\n",
    "\n",
    "prompt = tokenizer.apply_chat_template(\n",
    "    messages, tokenize=False, add_generation_prompt=True\n",
    ")\n",
    "\n",
    "outputs = pipe(prompt, max_new_tokens=512, do_sample=True)\n",
    "\n",
    "display(\n",
    "    Markdown(\n",
    "            outputs[0][\"generated_text\"].split(\n",
    "                \"<|start_header_id|>assistant<|end_header_id|>\"\n",
    "            )[1]\n",
    "        )\n",
    "    )"
   ]
  }
 ],
 "metadata": {
  "kaggle": {
   "accelerator": "nvidiaTeslaT4",
   "dataSources": [
    {
     "modelId": 121027,
     "modelInstanceId": 100936,
     "sourceId": 120005,
     "sourceType": "modelInstanceVersion"
    }
   ],
   "dockerImageVersionId": 30840,
   "isGpuEnabled": true,
   "isInternetEnabled": true,
   "language": "python",
   "sourceType": "notebook"
  },
  "kernelspec": {
   "display_name": "Python 3",
   "language": "python",
   "name": "python3"
  },
  "language_info": {
   "codemirror_mode": {
    "name": "ipython",
    "version": 3
   },
   "file_extension": ".py",
   "mimetype": "text/x-python",
   "name": "python",
   "nbconvert_exporter": "python",
   "pygments_lexer": "ipython3",
   "version": "3.10.12"
  },
  "papermill": {
   "default_parameters": {},
   "duration": 105.843656,
   "end_time": "2025-01-17T15:34:00.842373",
   "environment_variables": {},
   "exception": null,
   "input_path": "__notebook__.ipynb",
   "output_path": "__notebook__.ipynb",
   "parameters": {},
   "start_time": "2025-01-17T15:32:14.998717",
   "version": "2.6.0"
  },
  "widgets": {
   "application/vnd.jupyter.widget-state+json": {
    "state": {
     "19cfb43651be4b8f88e34393f968ce0b": {
      "model_module": "@jupyter-widgets/controls",
      "model_module_version": "2.0.0",
      "model_name": "HTMLModel",
      "state": {
       "_dom_classes": [],
       "_model_module": "@jupyter-widgets/controls",
       "_model_module_version": "2.0.0",
       "_model_name": "HTMLModel",
       "_view_count": null,
       "_view_module": "@jupyter-widgets/controls",
       "_view_module_version": "2.0.0",
       "_view_name": "HTMLView",
       "description": "",
       "description_allow_html": false,
       "layout": "IPY_MODEL_344e9e29ec174664b13165a48e689a49",
       "placeholder": "​",
       "style": "IPY_MODEL_ac84f05020af4cd4bce67d15b14ef01d",
       "tabbable": null,
       "tooltip": null,
       "value": "Loading checkpoint shards: 100%"
      }
     },
     "2f227a4191f54f0c95bfb566920003c2": {
      "model_module": "@jupyter-widgets/controls",
      "model_module_version": "2.0.0",
      "model_name": "ProgressStyleModel",
      "state": {
       "_model_module": "@jupyter-widgets/controls",
       "_model_module_version": "2.0.0",
       "_model_name": "ProgressStyleModel",
       "_view_count": null,
       "_view_module": "@jupyter-widgets/base",
       "_view_module_version": "2.0.0",
       "_view_name": "StyleView",
       "bar_color": null,
       "description_width": ""
      }
     },
     "344e9e29ec174664b13165a48e689a49": {
      "model_module": "@jupyter-widgets/base",
      "model_module_version": "2.0.0",
      "model_name": "LayoutModel",
      "state": {
       "_model_module": "@jupyter-widgets/base",
       "_model_module_version": "2.0.0",
       "_model_name": "LayoutModel",
       "_view_count": null,
       "_view_module": "@jupyter-widgets/base",
       "_view_module_version": "2.0.0",
       "_view_name": "LayoutView",
       "align_content": null,
       "align_items": null,
       "align_self": null,
       "border_bottom": null,
       "border_left": null,
       "border_right": null,
       "border_top": null,
       "bottom": null,
       "display": null,
       "flex": null,
       "flex_flow": null,
       "grid_area": null,
       "grid_auto_columns": null,
       "grid_auto_flow": null,
       "grid_auto_rows": null,
       "grid_column": null,
       "grid_gap": null,
       "grid_row": null,
       "grid_template_areas": null,
       "grid_template_columns": null,
       "grid_template_rows": null,
       "height": null,
       "justify_content": null,
       "justify_items": null,
       "left": null,
       "margin": null,
       "max_height": null,
       "max_width": null,
       "min_height": null,
       "min_width": null,
       "object_fit": null,
       "object_position": null,
       "order": null,
       "overflow": null,
       "padding": null,
       "right": null,
       "top": null,
       "visibility": null,
       "width": null
      }
     },
     "7019ae3e14cb4a63becd90f2a35cb1e5": {
      "model_module": "@jupyter-widgets/base",
      "model_module_version": "2.0.0",
      "model_name": "LayoutModel",
      "state": {
       "_model_module": "@jupyter-widgets/base",
       "_model_module_version": "2.0.0",
       "_model_name": "LayoutModel",
       "_view_count": null,
       "_view_module": "@jupyter-widgets/base",
       "_view_module_version": "2.0.0",
       "_view_name": "LayoutView",
       "align_content": null,
       "align_items": null,
       "align_self": null,
       "border_bottom": null,
       "border_left": null,
       "border_right": null,
       "border_top": null,
       "bottom": null,
       "display": null,
       "flex": null,
       "flex_flow": null,
       "grid_area": null,
       "grid_auto_columns": null,
       "grid_auto_flow": null,
       "grid_auto_rows": null,
       "grid_column": null,
       "grid_gap": null,
       "grid_row": null,
       "grid_template_areas": null,
       "grid_template_columns": null,
       "grid_template_rows": null,
       "height": null,
       "justify_content": null,
       "justify_items": null,
       "left": null,
       "margin": null,
       "max_height": null,
       "max_width": null,
       "min_height": null,
       "min_width": null,
       "object_fit": null,
       "object_position": null,
       "order": null,
       "overflow": null,
       "padding": null,
       "right": null,
       "top": null,
       "visibility": null,
       "width": null
      }
     },
     "72835257ef10472faf2fa6bb9143f5a5": {
      "model_module": "@jupyter-widgets/controls",
      "model_module_version": "2.0.0",
      "model_name": "HBoxModel",
      "state": {
       "_dom_classes": [],
       "_model_module": "@jupyter-widgets/controls",
       "_model_module_version": "2.0.0",
       "_model_name": "HBoxModel",
       "_view_count": null,
       "_view_module": "@jupyter-widgets/controls",
       "_view_module_version": "2.0.0",
       "_view_name": "HBoxView",
       "box_style": "",
       "children": [
        "IPY_MODEL_19cfb43651be4b8f88e34393f968ce0b",
        "IPY_MODEL_9170d4c5e1b0418a928ce88cc15f83ea",
        "IPY_MODEL_aa30d802fbb04dcd898882347c1b1886"
       ],
       "layout": "IPY_MODEL_dd8cd63b0ae945f881e71489eae81c26",
       "tabbable": null,
       "tooltip": null
      }
     },
     "8b0bd6eae16943c38c5c0780a9f202ba": {
      "model_module": "@jupyter-widgets/base",
      "model_module_version": "2.0.0",
      "model_name": "LayoutModel",
      "state": {
       "_model_module": "@jupyter-widgets/base",
       "_model_module_version": "2.0.0",
       "_model_name": "LayoutModel",
       "_view_count": null,
       "_view_module": "@jupyter-widgets/base",
       "_view_module_version": "2.0.0",
       "_view_name": "LayoutView",
       "align_content": null,
       "align_items": null,
       "align_self": null,
       "border_bottom": null,
       "border_left": null,
       "border_right": null,
       "border_top": null,
       "bottom": null,
       "display": null,
       "flex": null,
       "flex_flow": null,
       "grid_area": null,
       "grid_auto_columns": null,
       "grid_auto_flow": null,
       "grid_auto_rows": null,
       "grid_column": null,
       "grid_gap": null,
       "grid_row": null,
       "grid_template_areas": null,
       "grid_template_columns": null,
       "grid_template_rows": null,
       "height": null,
       "justify_content": null,
       "justify_items": null,
       "left": null,
       "margin": null,
       "max_height": null,
       "max_width": null,
       "min_height": null,
       "min_width": null,
       "object_fit": null,
       "object_position": null,
       "order": null,
       "overflow": null,
       "padding": null,
       "right": null,
       "top": null,
       "visibility": null,
       "width": null
      }
     },
     "9170d4c5e1b0418a928ce88cc15f83ea": {
      "model_module": "@jupyter-widgets/controls",
      "model_module_version": "2.0.0",
      "model_name": "FloatProgressModel",
      "state": {
       "_dom_classes": [],
       "_model_module": "@jupyter-widgets/controls",
       "_model_module_version": "2.0.0",
       "_model_name": "FloatProgressModel",
       "_view_count": null,
       "_view_module": "@jupyter-widgets/controls",
       "_view_module_version": "2.0.0",
       "_view_name": "ProgressView",
       "bar_style": "success",
       "description": "",
       "description_allow_html": false,
       "layout": "IPY_MODEL_7019ae3e14cb4a63becd90f2a35cb1e5",
       "max": 2.0,
       "min": 0.0,
       "orientation": "horizontal",
       "style": "IPY_MODEL_2f227a4191f54f0c95bfb566920003c2",
       "tabbable": null,
       "tooltip": null,
       "value": 2.0
      }
     },
     "9e08e95a85f6432aa4c3899151aa1632": {
      "model_module": "@jupyter-widgets/controls",
      "model_module_version": "2.0.0",
      "model_name": "HTMLStyleModel",
      "state": {
       "_model_module": "@jupyter-widgets/controls",
       "_model_module_version": "2.0.0",
       "_model_name": "HTMLStyleModel",
       "_view_count": null,
       "_view_module": "@jupyter-widgets/base",
       "_view_module_version": "2.0.0",
       "_view_name": "StyleView",
       "background": null,
       "description_width": "",
       "font_size": null,
       "text_color": null
      }
     },
     "aa30d802fbb04dcd898882347c1b1886": {
      "model_module": "@jupyter-widgets/controls",
      "model_module_version": "2.0.0",
      "model_name": "HTMLModel",
      "state": {
       "_dom_classes": [],
       "_model_module": "@jupyter-widgets/controls",
       "_model_module_version": "2.0.0",
       "_model_name": "HTMLModel",
       "_view_count": null,
       "_view_module": "@jupyter-widgets/controls",
       "_view_module_version": "2.0.0",
       "_view_name": "HTMLView",
       "description": "",
       "description_allow_html": false,
       "layout": "IPY_MODEL_8b0bd6eae16943c38c5c0780a9f202ba",
       "placeholder": "​",
       "style": "IPY_MODEL_9e08e95a85f6432aa4c3899151aa1632",
       "tabbable": null,
       "tooltip": null,
       "value": " 2/2 [00:30&lt;00:00, 14.03s/it]"
      }
     },
     "ac84f05020af4cd4bce67d15b14ef01d": {
      "model_module": "@jupyter-widgets/controls",
      "model_module_version": "2.0.0",
      "model_name": "HTMLStyleModel",
      "state": {
       "_model_module": "@jupyter-widgets/controls",
       "_model_module_version": "2.0.0",
       "_model_name": "HTMLStyleModel",
       "_view_count": null,
       "_view_module": "@jupyter-widgets/base",
       "_view_module_version": "2.0.0",
       "_view_name": "StyleView",
       "background": null,
       "description_width": "",
       "font_size": null,
       "text_color": null
      }
     },
     "dd8cd63b0ae945f881e71489eae81c26": {
      "model_module": "@jupyter-widgets/base",
      "model_module_version": "2.0.0",
      "model_name": "LayoutModel",
      "state": {
       "_model_module": "@jupyter-widgets/base",
       "_model_module_version": "2.0.0",
       "_model_name": "LayoutModel",
       "_view_count": null,
       "_view_module": "@jupyter-widgets/base",
       "_view_module_version": "2.0.0",
       "_view_name": "LayoutView",
       "align_content": null,
       "align_items": null,
       "align_self": null,
       "border_bottom": null,
       "border_left": null,
       "border_right": null,
       "border_top": null,
       "bottom": null,
       "display": null,
       "flex": null,
       "flex_flow": null,
       "grid_area": null,
       "grid_auto_columns": null,
       "grid_auto_flow": null,
       "grid_auto_rows": null,
       "grid_column": null,
       "grid_gap": null,
       "grid_row": null,
       "grid_template_areas": null,
       "grid_template_columns": null,
       "grid_template_rows": null,
       "height": null,
       "justify_content": null,
       "justify_items": null,
       "left": null,
       "margin": null,
       "max_height": null,
       "max_width": null,
       "min_height": null,
       "min_width": null,
       "object_fit": null,
       "object_position": null,
       "order": null,
       "overflow": null,
       "padding": null,
       "right": null,
       "top": null,
       "visibility": null,
       "width": null
      }
     }
    },
    "version_major": 2,
    "version_minor": 0
   }
  }
 },
 "nbformat": 4,
 "nbformat_minor": 5
}
